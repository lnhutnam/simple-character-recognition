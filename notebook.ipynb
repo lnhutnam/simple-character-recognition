{
 "metadata": {
  "language_info": {
   "codemirror_mode": {
    "name": "ipython",
    "version": 3
   },
   "file_extension": ".py",
   "mimetype": "text/x-python",
   "name": "python",
   "nbconvert_exporter": "python",
   "pygments_lexer": "ipython3",
   "version": "3.7.9-final"
  },
  "orig_nbformat": 2,
  "kernelspec": {
   "name": "python3",
   "display_name": "Python 3",
   "language": "python"
  }
 },
 "nbformat": 4,
 "nbformat_minor": 2,
 "cells": [
  {
   "cell_type": "code",
   "execution_count": 103,
   "metadata": {},
   "outputs": [],
   "source": [
    "import numpy as np\n",
    "import numpy as np\n",
    "from numpy.lib.stride_tricks import as_strided"
   ]
  },
  {
   "source": [
    "# Neural Networks - Mạng neural nhân tạo"
   ],
   "cell_type": "markdown",
   "metadata": {}
  },
  {
   "source": [
    "## Thiết kế mạng neural nhân tạo nhận diện hai mẫu\n",
    "\n",
    "<img align=\"left\" width=\"256\" height=\"256\" src=\"./figs/v_character.png\">\n",
    "\n",
    "<img align=\"left\" width=\"256\" height=\"256\" src=\"./figs/o_character.png\">"
   ],
   "cell_type": "markdown",
   "metadata": {}
  },
  {
   "source": [
    "## Số hóa 2 mẫu trên\n",
    "Ta nhận thấy, hai mẫu trên được biểu diễn trên một lưới 3x3, trên lưới có 2 loại ô: ô màu trắng và ô màu đen. <br>\n",
    "Ta mô hình hóa hai mẫu trên bằng hai ma trận, kích thước 3x3, ô mang màu đen tương ứng giá trị 1 và ô màu trắng tương ứng giá trị 0. <br>\n",
    "\n",
    "Mẫu 01:<br>\n",
    "1&nbsp;&nbsp;&nbsp;0&nbsp;&nbsp;&nbsp;1 <br>\n",
    "1&nbsp;&nbsp;&nbsp;0&nbsp;&nbsp;&nbsp;1 <br>\n",
    "0&nbsp;&nbsp;&nbsp;1&nbsp;&nbsp;&nbsp;1 <br>\n",
    "\n",
    "Mẫu 02:<br>\n",
    "1&nbsp;&nbsp;&nbsp;1&nbsp;&nbsp;&nbsp;1 <br>\n",
    "1&nbsp;&nbsp;&nbsp;0&nbsp;&nbsp;&nbsp;1 <br>\n",
    "1&nbsp;&nbsp;&nbsp;1&nbsp;&nbsp;&nbsp;1 <br>\n"
   ],
   "cell_type": "markdown",
   "metadata": {}
  },
  {
   "cell_type": "code",
   "execution_count": 104,
   "metadata": {},
   "outputs": [],
   "source": [
    "origin_model_v = np.array([1, 0, 1, 1, 0, 1, 0, 1, 0])\n",
    "\n",
    "origin_model_o = np.array([1, 1, 1, 1, 0, 1, 1, 1, 1])"
   ]
  },
  {
   "source": [
    "## Tiền xử lý\n",
    "Bao xung quanh hai ma trận mô hình hóa hai mẫu bằng những con số 0. <br>\n",
    "\n",
    "Mẫu 01:<br>\n",
    "0&nbsp;&nbsp;&nbsp;0&nbsp;&nbsp;&nbsp;0&nbsp;&nbsp;&nbsp;0&nbsp;&nbsp;&nbsp;0 <br>\n",
    "0&nbsp;&nbsp;&nbsp;1&nbsp;&nbsp;&nbsp;0&nbsp;&nbsp;&nbsp;1&nbsp;&nbsp;&nbsp;0<br>\n",
    "0&nbsp;&nbsp;&nbsp;1&nbsp;&nbsp;&nbsp;0&nbsp;&nbsp;&nbsp;1&nbsp;&nbsp;&nbsp;0 <br>\n",
    "0&nbsp;&nbsp;&nbsp;0&nbsp;&nbsp;&nbsp;1&nbsp;&nbsp;&nbsp;1&nbsp;&nbsp;&nbsp;0 <br>\n",
    "0&nbsp;&nbsp;&nbsp;0&nbsp;&nbsp;&nbsp;0&nbsp;&nbsp;&nbsp;0&nbsp;&nbsp;&nbsp;0 <br>\n",
    "\n",
    "Mẫu 02:<br>\n",
    "0&nbsp;&nbsp;&nbsp;0&nbsp;&nbsp;&nbsp;0&nbsp;&nbsp;&nbsp;0&nbsp;&nbsp;&nbsp;0 <br>\n",
    "0&nbsp;&nbsp;&nbsp;1&nbsp;&nbsp;&nbsp;1&nbsp;&nbsp;&nbsp;1&nbsp;&nbsp;&nbsp;0 <br>\n",
    "0&nbsp;&nbsp;&nbsp;1&nbsp;&nbsp;&nbsp;0&nbsp;&nbsp;&nbsp;1&nbsp;&nbsp;&nbsp;0 <br>\n",
    "0&nbsp;&nbsp;&nbsp;1&nbsp;&nbsp;&nbsp;1&nbsp;&nbsp;&nbsp;1&nbsp;&nbsp;&nbsp;0 <br>\n",
    "0&nbsp;&nbsp;&nbsp;0&nbsp;&nbsp;&nbsp;0&nbsp;&nbsp;&nbsp;0&nbsp;&nbsp;&nbsp;0 <br>"
   ],
   "cell_type": "markdown",
   "metadata": {}
  },
  {
   "cell_type": "code",
   "execution_count": 105,
   "metadata": {},
   "outputs": [],
   "source": [
    "def pre_processing_input(origin_model):\n",
    "    np_arr =  np.array(origin_model).reshape((3,3))\n",
    "    result =  np.zeros(np_arr.shape + np.array(2), np_arr.dtype)\n",
    "    result[1:-1,1:-1] = np_arr \n",
    "    return result"
   ]
  },
  {
   "cell_type": "code",
   "execution_count": 106,
   "metadata": {},
   "outputs": [
    {
     "output_type": "stream",
     "name": "stdout",
     "text": [
      "[[0 0 0 0 0]\n [0 1 0 1 0]\n [0 1 0 1 0]\n [0 0 1 0 0]\n [0 0 0 0 0]]\n[[0 0 0 0 0]\n [0 1 1 1 0]\n [0 1 0 1 0]\n [0 1 1 1 0]\n [0 0 0 0 0]]\n"
     ]
    }
   ],
   "source": [
    "pre_processing_origin_model_v = pre_processing_input(origin_model_v)\n",
    "pre_processing_origin_model_o = pre_processing_input(origin_model_o)\n",
    "\n",
    "print(pre_processing_origin_model_v)\n",
    "print(pre_processing_origin_model_o)"
   ]
  },
  {
   "source": [
    "## Phân tích thành các thành phần 3x3\n",
    "\n",
    "Sau giai đoạn tiền xử lý, ta có mẫu 1 như sau: <br>\n",
    "Mẫu 01:<br>\n",
    "0&nbsp;&nbsp;&nbsp;0&nbsp;&nbsp;&nbsp;0&nbsp;&nbsp;&nbsp;0&nbsp;&nbsp;&nbsp;0 <br>\n",
    "0&nbsp;&nbsp;&nbsp;1&nbsp;&nbsp;&nbsp;0&nbsp;&nbsp;&nbsp;1&nbsp;&nbsp;&nbsp;0<br>\n",
    "0&nbsp;&nbsp;&nbsp;1&nbsp;&nbsp;&nbsp;0&nbsp;&nbsp;&nbsp;1&nbsp;&nbsp;&nbsp;0 <br>\n",
    "0&nbsp;&nbsp;&nbsp;0&nbsp;&nbsp;&nbsp;1&nbsp;&nbsp;&nbsp;1&nbsp;&nbsp;&nbsp;0 <br>\n",
    "0&nbsp;&nbsp;&nbsp;0&nbsp;&nbsp;&nbsp;0&nbsp;&nbsp;&nbsp;0&nbsp;&nbsp;&nbsp;0 <br>\n",
    "\n",
    "Với một cửa số 3x3, ta bắt đầu trượt từ vị trí (0,0) với width step = 1 <br>\n",
    "Mỗi lần trượt, ta thu được một ma trận kích thước 3x3\n",
    "Với mẫu số 1, ta được <br>\n",
    "Mẫu 01.0:<br>\n",
    "0&nbsp;&nbsp;&nbsp;0&nbsp;&nbsp;&nbsp;0 <br>\n",
    "0&nbsp;&nbsp;&nbsp;1&nbsp;&nbsp;&nbsp;0 <br>\n",
    "0&nbsp;&nbsp;&nbsp;1&nbsp;&nbsp;&nbsp;0 <br>\n",
    "\n",
    "Mẫu 01.1:<br>\n",
    "0&nbsp;&nbsp;&nbsp;0&nbsp;&nbsp;&nbsp;0 <br>\n",
    "1&nbsp;&nbsp;&nbsp;0&nbsp;&nbsp;&nbsp;1 <br>\n",
    "1&nbsp;&nbsp;&nbsp;0&nbsp;&nbsp;&nbsp;1 <br>\n",
    "\n",
    "Mẫu 01.2:<br>\n",
    "0&nbsp;&nbsp;&nbsp;0&nbsp;&nbsp;&nbsp;0 <br>\n",
    "0&nbsp;&nbsp;&nbsp;1&nbsp;&nbsp;&nbsp;0 <br>\n",
    "0&nbsp;&nbsp;&nbsp;1&nbsp;&nbsp;&nbsp;0 <br>\n",
    "\n",
    "Mẫu 01.3:<br>\n",
    "0&nbsp;&nbsp;&nbsp;1&nbsp;&nbsp;&nbsp;0 <br>\n",
    "0&nbsp;&nbsp;&nbsp;1&nbsp;&nbsp;&nbsp;0 <br>\n",
    "0&nbsp;&nbsp;&nbsp;0&nbsp;&nbsp;&nbsp;1 <br>\n",
    "\n",
    "Mẫu 01.4:<br>\n",
    "1&nbsp;&nbsp;&nbsp;0&nbsp;&nbsp;&nbsp;1 <br>\n",
    "1&nbsp;&nbsp;&nbsp;0&nbsp;&nbsp;&nbsp;1 <br>\n",
    "0&nbsp;&nbsp;&nbsp;1&nbsp;&nbsp;&nbsp;1 <br>\n",
    "\n",
    "Mẫu 01.5:<br>\n",
    "0&nbsp;&nbsp;&nbsp;1&nbsp;&nbsp;&nbsp;0 <br>\n",
    "0&nbsp;&nbsp;&nbsp;1&nbsp;&nbsp;&nbsp;0 <br>\n",
    "1&nbsp;&nbsp;&nbsp;0&nbsp;&nbsp;&nbsp;0 <br>\n",
    "\n",
    "Mẫu 01.6:<br>\n",
    "0&nbsp;&nbsp;&nbsp;1&nbsp;&nbsp;&nbsp;0 <br>\n",
    "0&nbsp;&nbsp;&nbsp;0&nbsp;&nbsp;&nbsp;1 <br>\n",
    "0&nbsp;&nbsp;&nbsp;0&nbsp;&nbsp;&nbsp;0 <br>\n",
    "\n",
    "Mẫu 01.7:<br>\n",
    "1&nbsp;&nbsp;&nbsp;0&nbsp;&nbsp;&nbsp;1 <br>\n",
    "0&nbsp;&nbsp;&nbsp;1&nbsp;&nbsp;&nbsp;0 <br>\n",
    "0&nbsp;&nbsp;&nbsp;0&nbsp;&nbsp;&nbsp;0 <br>\n",
    "\n",
    "Mẫu 01.8:<br>\n",
    "0&nbsp;&nbsp;&nbsp;1&nbsp;&nbsp;&nbsp;0 <br>\n",
    "1&nbsp;&nbsp;&nbsp;0&nbsp;&nbsp;&nbsp;0 <br>\n",
    "0&nbsp;&nbsp;&nbsp;0&nbsp;&nbsp;&nbsp;0 <br>\n",
    "\n",
    "Với mẫu số 2, ta được <br>\n",
    "Mẫu 02:<br>\n",
    "0&nbsp;&nbsp;&nbsp;0&nbsp;&nbsp;&nbsp;0&nbsp;&nbsp;&nbsp;0&nbsp;&nbsp;&nbsp;0 <br>\n",
    "0&nbsp;&nbsp;&nbsp;1&nbsp;&nbsp;&nbsp;1&nbsp;&nbsp;&nbsp;1&nbsp;&nbsp;&nbsp;0 <br>\n",
    "0&nbsp;&nbsp;&nbsp;1&nbsp;&nbsp;&nbsp;0&nbsp;&nbsp;&nbsp;1&nbsp;&nbsp;&nbsp;0 <br>\n",
    "0&nbsp;&nbsp;&nbsp;1&nbsp;&nbsp;&nbsp;1&nbsp;&nbsp;&nbsp;1&nbsp;&nbsp;&nbsp;0 <br>\n",
    "0&nbsp;&nbsp;&nbsp;0&nbsp;&nbsp;&nbsp;0&nbsp;&nbsp;&nbsp;0&nbsp;&nbsp;&nbsp;0 <br>\n",
    "\n",
    "Mẫu 02.0:<br>\n",
    "0&nbsp;&nbsp;&nbsp;0&nbsp;&nbsp;&nbsp;0 <br>\n",
    "0&nbsp;&nbsp;&nbsp;1&nbsp;&nbsp;&nbsp;1 <br>\n",
    "0&nbsp;&nbsp;&nbsp;1&nbsp;&nbsp;&nbsp;0 <br>\n",
    "\n",
    "Mẫu 02.1:<br>\n",
    "0&nbsp;&nbsp;&nbsp;0&nbsp;&nbsp;&nbsp;0 <br>\n",
    "1&nbsp;&nbsp;&nbsp;1&nbsp;&nbsp;&nbsp;1 <br>\n",
    "1&nbsp;&nbsp;&nbsp;0&nbsp;&nbsp;&nbsp;1 <br>\n",
    "\n",
    "Mẫu 02.2:<br>\n",
    "0&nbsp;&nbsp;&nbsp;0&nbsp;&nbsp;&nbsp;0 <br>\n",
    "1&nbsp;&nbsp;&nbsp;1&nbsp;&nbsp;&nbsp;0 <br>\n",
    "0&nbsp;&nbsp;&nbsp;1&nbsp;&nbsp;&nbsp;0 <br>\n",
    "\n",
    "Mẫu 02.3:<br>\n",
    "0&nbsp;&nbsp;&nbsp;1&nbsp;&nbsp;&nbsp;1 <br>\n",
    "0&nbsp;&nbsp;&nbsp;1&nbsp;&nbsp;&nbsp;0 <br>\n",
    "0&nbsp;&nbsp;&nbsp;1&nbsp;&nbsp;&nbsp;1 <br>\n",
    "\n",
    "Mẫu 02.4:<br>\n",
    "1&nbsp;&nbsp;&nbsp;1&nbsp;&nbsp;&nbsp;1 <br>\n",
    "1&nbsp;&nbsp;&nbsp;0&nbsp;&nbsp;&nbsp;1 <br>\n",
    "1&nbsp;&nbsp;&nbsp;1&nbsp;&nbsp;&nbsp;1 <br>\n",
    "\n",
    "Mẫu 02.5:<br>\n",
    "1&nbsp;&nbsp;&nbsp;1&nbsp;&nbsp;&nbsp;0 <br>\n",
    "0&nbsp;&nbsp;&nbsp;1&nbsp;&nbsp;&nbsp;0 <br>\n",
    "1&nbsp;&nbsp;&nbsp;1&nbsp;&nbsp;&nbsp;0 <br>\n",
    "\n",
    "Mẫu 02.6:<br>\n",
    "0&nbsp;&nbsp;&nbsp;1&nbsp;&nbsp;&nbsp;0 <br>\n",
    "0&nbsp;&nbsp;&nbsp;1&nbsp;&nbsp;&nbsp;1 <br>\n",
    "0&nbsp;&nbsp;&nbsp;0&nbsp;&nbsp;&nbsp;0 <br>\n",
    "\n",
    "Mẫu 02.7:<br>\n",
    "1&nbsp;&nbsp;&nbsp;0&nbsp;&nbsp;&nbsp;1 <br>\n",
    "1&nbsp;&nbsp;&nbsp;1&nbsp;&nbsp;&nbsp;1 <br>\n",
    "0&nbsp;&nbsp;&nbsp;0&nbsp;&nbsp;&nbsp;0 <br>\n",
    "\n",
    "Mẫu 02.8:<br>\n",
    "0&nbsp;&nbsp;&nbsp;1&nbsp;&nbsp;&nbsp;0 <br>\n",
    "1&nbsp;&nbsp;&nbsp;1&nbsp;&nbsp;&nbsp;0 <br>\n",
    "0&nbsp;&nbsp;&nbsp;0&nbsp;&nbsp;&nbsp;0 <br>"
   ],
   "cell_type": "markdown",
   "metadata": {}
  },
  {
   "cell_type": "code",
   "execution_count": 107,
   "metadata": {},
   "outputs": [],
   "source": [
    "def anlyze_preprocessing_matrix_model(arr, window_shape, steps):\n",
    "    in_shape = np.array(arr.shape[-len(steps):])  \n",
    "    window_shape = np.array(window_shape)  \n",
    "    steps = np.array(steps)  \n",
    "    nbytes = arr.strides[-1]  \n",
    "    window_strides = tuple(np.cumprod(arr.shape[:0:-1])[::-1]) + (1,)\n",
    "    step_strides = tuple(window_strides[-len(steps):] * steps)\n",
    "    strides = tuple(int(i) * nbytes for i in step_strides + window_strides)\n",
    "    outshape = tuple((in_shape - window_shape) // steps + 1)\n",
    "    outshape = outshape + arr.shape[:-len(steps)] + tuple(window_shape)\n",
    "    return as_strided(arr, shape=outshape, strides=strides, writeable=False)"
   ]
  },
  {
   "cell_type": "code",
   "execution_count": 108,
   "metadata": {},
   "outputs": [
    {
     "output_type": "stream",
     "name": "stdout",
     "text": [
      "[[[[0 0 0]\n   [0 1 0]\n   [0 1 0]]\n\n  [[0 0 0]\n   [1 0 1]\n   [1 0 1]]\n\n  [[0 0 0]\n   [0 1 0]\n   [0 1 0]]]\n\n\n [[[0 1 0]\n   [0 1 0]\n   [0 0 1]]\n\n  [[1 0 1]\n   [1 0 1]\n   [0 1 0]]\n\n  [[0 1 0]\n   [0 1 0]\n   [1 0 0]]]\n\n\n [[[0 1 0]\n   [0 0 1]\n   [0 0 0]]\n\n  [[1 0 1]\n   [0 1 0]\n   [0 0 0]]\n\n  [[0 1 0]\n   [1 0 0]\n   [0 0 0]]]]\n[[[[0 0 0]\n   [0 1 1]\n   [0 1 0]]\n\n  [[0 0 0]\n   [1 1 1]\n   [1 0 1]]\n\n  [[0 0 0]\n   [1 1 0]\n   [0 1 0]]]\n\n\n [[[0 1 1]\n   [0 1 0]\n   [0 1 1]]\n\n  [[1 1 1]\n   [1 0 1]\n   [1 1 1]]\n\n  [[1 1 0]\n   [0 1 0]\n   [1 1 0]]]\n\n\n [[[0 1 0]\n   [0 1 1]\n   [0 0 0]]\n\n  [[1 0 1]\n   [1 1 1]\n   [0 0 0]]\n\n  [[0 1 0]\n   [1 1 0]\n   [0 0 0]]]]\n"
     ]
    }
   ],
   "source": [
    "V_Train = anlyze_preprocessing_matrix_model(pre_processing_origin_model_v, window_shape=(3, 3), steps=(1, 1))\n",
    "O_Train = anlyze_preprocessing_matrix_model(pre_processing_origin_model_o, window_shape=(3, 3), steps=(1, 1))\n",
    "\n",
    "print(V_Train)\n",
    "\n",
    "print(O_Train)"
   ]
  },
  {
   "cell_type": "code",
   "execution_count": 109,
   "metadata": {},
   "outputs": [],
   "source": [
    "class NeuralNetwork:\n",
    "    def __init__(self):\n",
    "        # Ma trận trọng số cho lần threshold 1\n",
    "        self.weight = np.array([-1, -1, -1, -1, 2, -1, -1, -1, -1])\n",
    "        # Ma trận trọng số cho lần threshold cuối\n",
    "        self.weight_final = np.array([1, 1, 1, 1, 1, 1, 1, 1, 1])\n",
    "        # Thông số threshold\n",
    "        self.threshold = 0.5\n",
    "\n",
    "    # Hàm tiền xử lý xử liệu\n",
    "    def pre_processing_input(self, origin_model):\n",
    "        np_arr =  np.array(origin_model).reshape((3,3))\n",
    "        result =  np.zeros(np_arr.shape + np.array(2), np_arr.dtype)\n",
    "        result[1:-1,1:-1] = np_arr \n",
    "        return result\n",
    "\n",
    "    # Hàm trượt cửa sổ 3x3\n",
    "    def anlyze_preprocessing_matrix_model(self, matrix, window_shape, steps):\n",
    "        in_shape = np.array(matrix.shape[-len(steps):])  \n",
    "        window_shape = np.array(window_shape)  \n",
    "        steps = np.array(steps)  \n",
    "        nbytes = matrix.strides[-1]  \n",
    "        window_strides = tuple(np.cumprod(matrix.shape[:0:-1])[::-1]) + (1,)\n",
    "        step_strides = tuple(window_strides[-len(steps):] * steps)\n",
    "        strides = tuple(int(i) * nbytes for i in step_strides + window_strides)\n",
    "        outshape = tuple((in_shape - window_shape) // steps + 1)\n",
    "        outshape = outshape + matrix.shape[:-len(steps)] + tuple(window_shape)\n",
    "        return as_strided(matrix, shape=outshape, strides=strides, writeable=False).reshape(9,9)\n",
    "\n",
    "    # Hàm dot product\n",
    "    def dot_product(self, w, x):\n",
    "        return np.sign(np.dot(w.T, x))\n",
    "\n",
    "    # Hàm phân ngưỡng\n",
    "    def func_threshold(self, sum_dot_product):\n",
    "        return (0, 1)[sum_dot_product > self.threshold]\n",
    "\n",
    "    # Hàm thực thi và cho ra kết quả nhận dạng: 1 -> Chữ V, 0 -> Chữ O\n",
    "    def fit(self, X):\n",
    "        layer_y = []\n",
    "        for x in X:\n",
    "            y = self.dot_product(self.weight, x)\n",
    "            layer_y.append(self.func_threshold(y))\n",
    "        return self.func_threshold(self.dot_product(self.weight_final, layer_y))"
   ]
  },
  {
   "cell_type": "code",
   "execution_count": 111,
   "metadata": {},
   "outputs": [
    {
     "output_type": "stream",
     "name": "stdout",
     "text": [
      "1\n0\n"
     ]
    }
   ],
   "source": [
    "net = NeuralNetwork()\n",
    "pre_processing_v = net.pre_processing_input(origin_model_v)\n",
    "pre_processing_o = net.pre_processing_input(origin_model_o)\n",
    "\n",
    "anlyze_preprocessing_v = net.anlyze_preprocessing_matrix_model(pre_processing_v, window_shape=(3, 3), steps=(1, 1))\n",
    "anlyze_preprocessing_o = net.anlyze_preprocessing_matrix_model(pre_processing_o, window_shape=(3, 3), steps=(1, 1))\n",
    "\n",
    "result_v = net.fit(anlyze_preprocessing_v)\n",
    "result_o = net.fit(anlyze_preprocessing_o)\n",
    "\n",
    "print(result_v)\n",
    "print(result_o)"
   ]
  },
  {
   "cell_type": "code",
   "execution_count": null,
   "metadata": {},
   "outputs": [],
   "source": []
  }
 ]
}